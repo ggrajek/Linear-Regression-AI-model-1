{
 "cells": [
  {
   "cell_type": "code",
   "execution_count": 2,
   "id": "4a37f6e0-da50-4d39-b27c-788c68850714",
   "metadata": {},
   "outputs": [
    {
     "name": "stdin",
     "output_type": "stream",
     "text": [
      "Enter your name:  Garret\n"
     ]
    },
    {
     "name": "stdout",
     "output_type": "stream",
     "text": [
      "hello Garret\n"
     ]
    }
   ],
   "source": [
    "name = input(\"Enter your name: \")\n",
    "print (\"hello\", name)"
   ]
  },
  {
   "cell_type": "code",
   "execution_count": 3,
   "id": "9b7e21c7-7e47-44d7-a72c-685e08a1a6b2",
   "metadata": {},
   "outputs": [
    {
     "name": "stdout",
     "output_type": "stream",
     "text": [
      "Mike\n"
     ]
    }
   ],
   "source": [
    "print(\"Mike\")"
   ]
  },
  {
   "cell_type": "code",
   "execution_count": 4,
   "id": "39d2c62f-0fb0-49cb-9805-977733c3ee40",
   "metadata": {},
   "outputs": [
    {
     "data": {
      "text/plain": [
       "'Garret'"
      ]
     },
     "execution_count": 4,
     "metadata": {},
     "output_type": "execute_result"
    }
   ],
   "source": [
    "name"
   ]
  },
  {
   "cell_type": "code",
   "execution_count": null,
   "id": "fe046db7-6eac-44a9-bd63-24bcb51b053b",
   "metadata": {},
   "outputs": [],
   "source": []
  }
 ],
 "metadata": {
  "kernelspec": {
   "display_name": "Python 3 (ipykernel)",
   "language": "python",
   "name": "python3"
  },
  "language_info": {
   "codemirror_mode": {
    "name": "ipython",
    "version": 3
   },
   "file_extension": ".py",
   "mimetype": "text/x-python",
   "name": "python",
   "nbconvert_exporter": "python",
   "pygments_lexer": "ipython3",
   "version": "3.13.1"
  }
 },
 "nbformat": 4,
 "nbformat_minor": 5
}
