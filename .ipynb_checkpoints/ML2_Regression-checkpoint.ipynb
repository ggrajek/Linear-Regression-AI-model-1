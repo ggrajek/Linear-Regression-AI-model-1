{
 "cells": [
  {
   "cell_type": "code",
   "execution_count": null,
   "id": "f58aeddd-f5fd-4012-bc03-da072c787bbd",
   "metadata": {},
   "outputs": [],
   "source": [
    "# Description: This is a simple linear regression model that predicts the target variable based on a single feature.\n",
    "\n",
    "print(\"Hello World 1\")\n",
    "import numpy as np\n",
    "import pandas as pd\n",
    "import matplotlib.pyplot as plt\n",
    "from sklearn.model_selection import train_test_split\n",
    "from sklearn.linear_model import LinearRegression\n",
    "from sklearn.metrics import mean_squared_error\n",
    "\n",
    "np.random.seed(42)\n",
    "X = np.random.rand(100, 1) * 10  # 100 data points, single feature\n",
    "y = 2.5 * X + np.random.randn(100, 1) * 2  # Linear relationship with some noise\n",
    "\n",
    "# Convert to DataFrame for better visualization\n",
    "df = pd.DataFrame(np.hstack((X, y)), columns=[\"Feature\", \"Target\"])\n",
    "print(df.head())\n",
    "print (\"hellow world 2\")\n",
    "\n",
    "# Split data into training (80%) and testing (20%) sets\n",
    "X_train, X_test, y_train, y_test = train_test_split(X, y, test_size=0.2, random_state=42)\n",
    "\n",
    "# Create and train the model\n",
    "model = LinearRegression()\n",
    "model.fit(X_train, y_train)\n",
    "\n",
    "# Predict on test data\n",
    "y_pred = model.predict(X_test)\n",
    "\n",
    "# Calculate Mean Squared Error\n",
    "mse = mean_squared_error(y_test, y_pred)\n",
    "print(f\"Mean Squared Error: {mse:.2f}\")\n",
    "\n",
    "# Visualize results\n",
    "plt.scatter(X_test, y_test, color=\"blue\", label=\"Actual\")\n",
    "plt.scatter(X_test, y_pred, color=\"red\", label=\"Predicted\")\n",
    "plt.xlabel(\"Feature\")\n",
    "plt.ylabel(\"Target\")\n",
    "plt.legend()\n",
    "plt.show()\n",
    "\n",
    "print (\"hello world 3\")"
   ]
  }
 ],
 "metadata": {
  "kernelspec": {
   "display_name": "Python 3 (ipykernel)",
   "language": "python",
   "name": "python3"
  },
  "language_info": {
   "codemirror_mode": {
    "name": "ipython",
    "version": 3
   },
   "file_extension": ".py",
   "mimetype": "text/x-python",
   "name": "python",
   "nbconvert_exporter": "python",
   "pygments_lexer": "ipython3",
   "version": "3.13.1"
  }
 },
 "nbformat": 4,
 "nbformat_minor": 5
}
