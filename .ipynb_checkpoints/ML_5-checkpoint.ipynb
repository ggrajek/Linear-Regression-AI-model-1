{
 "cells": [
  {
   "cell_type": "code",
   "execution_count": null,
   "id": "f58aeddd-f5fd-4012-bc03-da072c787bbd",
   "metadata": {},
   "outputs": [],
   "source": []
  }
 ],
 "metadata": {
  "kernelspec": {
   "display_name": "",
   "name": ""
  },
  "language_info": {
   "name": ""
  }
 },
 "nbformat": 4,
 "nbformat_minor": 5
}
