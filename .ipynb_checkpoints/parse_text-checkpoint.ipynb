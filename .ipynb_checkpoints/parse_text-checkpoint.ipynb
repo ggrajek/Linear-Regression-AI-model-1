{
 "cells": [
  {
   "cell_type": "code",
   "execution_count": null,
   "id": "3a4c4598",
   "metadata": {},
   "outputs": [],
   "source": [
    "print(\"Hello\")"
   ]
  },
  {
   "cell_type": "code",
   "execution_count": null,
   "id": "5cdcae5f",
   "metadata": {},
   "outputs": [],
   "source": [
    "x = 5\n",
    "print(x * 2)"
   ]
  },
  {
   "cell_type": "code",
   "execution_count": null,
   "id": "ed7283d5",
   "metadata": {},
   "outputs": [],
   "source": [
    "for i in range(3):\n",
    "    print(i)"
   ]
  }
 ],
 "metadata": {
  "jupytext": {
   "cell_metadata_filter": "-all",
   "main_language": "python",
   "notebook_metadata_filter": "-all"
  }
 },
 "nbformat": 4,
 "nbformat_minor": 5
}
